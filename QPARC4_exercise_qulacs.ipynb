{
  "nbformat": 4,
  "nbformat_minor": 0,
  "metadata": {
    "celltoolbar": "Slideshow",
    "colab": {
      "name": "QPARC4_exercise_qulacs.ipynb",
      "provenance": [],
      "collapsed_sections": [
        "xDmWvEOFqKaS",
        "nkH99NaGsyMB",
        "6bGNkGFIhZgl"
      ],
      "toc_visible": true,
      "include_colab_link": true
    },
    "kernelspec": {
      "display_name": "Python 3",
      "language": "python",
      "name": "python3"
    },
    "language_info": {
      "codemirror_mode": {
        "name": "ipython",
        "version": 3
      },
      "file_extension": ".py",
      "mimetype": "text/x-python",
      "name": "python",
      "nbconvert_exporter": "python",
      "pygments_lexer": "ipython3",
      "version": "3.7.3"
    }
  },
  "cells": [
    {
      "cell_type": "markdown",
      "metadata": {
        "id": "view-in-github",
        "colab_type": "text"
      },
      "source": [
        "<a href=\"https://colab.research.google.com/github/yoooopeeee/test/blob/master/QPARC4_exercise_qulacs.ipynb\" target=\"_parent\"><img src=\"https://colab.research.google.com/assets/colab-badge.svg\" alt=\"Open In Colab\"/></a>"
      ]
    },
    {
      "cell_type": "markdown",
      "metadata": {
        "colab_type": "text",
        "id": "l2poTAGkhZb3"
      },
      "source": [
        "# QPARC第4回演習 量子計算シミュレータQulacsの使用法"
      ]
    },
    {
      "cell_type": "markdown",
      "metadata": {
        "colab_type": "text",
        "id": "L4lOTwC9hZb6"
      },
      "source": [
        "株式会社QunaSys  井辺洋平"
      ]
    },
    {
      "cell_type": "markdown",
      "metadata": {
        "id": "jkfKFwyrYepg",
        "colab_type": "text"
      },
      "source": [
        "本演習では量子コンピュータのシミュレータであるQulacsの使用法を、手を動かしながら学びます。  \n",
        "\n",
        "次回の演習では量子アルゴリズムVQEの実装をQulacsを用いて行うため、しっかり身につけていきましょう。"
      ]
    },
    {
      "cell_type": "markdown",
      "metadata": {
        "id": "-8M_DEUPYepg",
        "colab_type": "text"
      },
      "source": [
        "## 【**重要**】テスト実行のお願い\n",
        "\n",
        "QPARC第四回講義当日までに、以下のテスト用セルを実行（セルをクリックし、`Shift+Enter`）して、エラーなく実行できることを確認して下さい。"
      ]
    },
    {
      "cell_type": "code",
      "metadata": {
        "scrolled": true,
        "id": "eyaYN5rCYeph",
        "colab_type": "code",
        "colab": {}
      },
      "source": [
        "# テスト用セル\n",
        "! pip install qulacs\n",
        "from qulacs import QuantumState\n",
        "q = QuantumState(1)\n",
        "print(q)"
      ],
      "execution_count": null,
      "outputs": []
    },
    {
      "cell_type": "markdown",
      "metadata": {
        "id": "lEDvVEofYepk",
        "colab_type": "text"
      },
      "source": [
        "↑上記セルで、最終的に以下のような出力が得られれば成功です。開講をお待ち下さい。\n",
        "```\n",
        " *** Quantum State ***\n",
        " * Qubit Count : 1\n",
        " * Dimension   : 2\n",
        " * State vector : \n",
        "(1,0)\n",
        "(0,0)\n",
        "```\n",
        "\n",
        "#### 【うまくいかない場合】\n",
        "以下の日程でプログラミング環境構築相談会を実施しますので、ご参加頂ければ幸いです。  \n",
        "> ８月１９日　１５：００−１７：００  \n",
        "\n",
        "Zoomリンク等詳細は追ってご連絡します。  \n",
        "なおQPARCのTeams [トラブル対応](https://teams.microsoft.com/l/channel/19%3a683a1790f8a54dec9ae3979af26c9203%40thread.tacv2/%25E3%2583%2588%25E3%2583%25A9%25E3%2583%2596%25E3%2583%25AB%25E5%25AF%25BE%25E5%25BF%259C?groupId=40fb0f64-0cce-4bfa-ab99-98d5309fb44f&tenantId=95308d55-3759-463d-ab8b-177ab2dac310) チャンネルでも随時サポート致します。お気軽にご相談下さい。\n"
      ]
    },
    {
      "cell_type": "markdown",
      "metadata": {
        "id": "MD8JaeBMYepk",
        "colab_type": "text"
      },
      "source": [
        "## 目次\n",
        "\n",
        "1. 量子状態の生成と初期化\n",
        "2. 量子ゲート\n",
        "3. 量子回路\n",
        "4. オブザーバブル"
      ]
    },
    {
      "cell_type": "markdown",
      "metadata": {
        "colab_type": "text",
        "id": "Zv4gmxEdhZb_"
      },
      "source": [
        "## 【はじめに】シミュレータを用いる動機とQulacsの紹介\n",
        "\n",
        "現在ある量子コンピュータ実機の計算能力の制限から、量子コンピュータ向けアルゴリズムの研究のためには、**シミュレータ**（量子コンピュータの動作を古典コンピュータで再現するソフトウェア）を用いるのが主流です。\n",
        "\n",
        "本演習では、世界最高クラスの動作速度を持つ量子コンピュータのシミュレータ [**Qulacs**](https://github.com/qulacs/qulacs) （キュラックスと発音します）の使い方を説明します。\n",
        "\n",
        "Qulacsの内部はC++で実装されており非常に高速で動作しますが、Pythonインタフェースを通して簡単に実装することができます。\n",
        "\n",
        "<div align=\"center\">\n",
        "<img src=\"https://images.squarespace-cdn.com/content/v1/5bc8010ff4e531349f0454c0/1540818591348-DOHKN62RYQPIDPYGZEUK/ke17ZwdGBToddI8pDm48kEy6sb-oyAcWceekoMu2IIxZw-zPPgdn4jUwVcJE1ZvWhcwhEtWJXoshNdA9f1qD7UnCxNA8dHvmd7460Z7fbKF_eFT_NGfl3GiRF7BarUbHzvvVUjfygrHeTx7hXWgYig/qulacs_logo.png?format=100w\" width=10%>\n",
        "</div>"
      ]
    },
    {
      "cell_type": "markdown",
      "metadata": {
        "id": "4Bn7etolYepl",
        "colab_type": "text"
      },
      "source": [
        "#### シミュレータのベンチマーク比較\n",
        "参考までに、[IBM Qiskit](https://qiskit.org/)等他のシミュレータとのベンチマーク比較です。  \n",
        "横軸はqubit数、縦軸は計算時間です。広範囲なqubit数の領域で**Qulacsが最も高速**です。  \n",
        "\n",
        "<div align=\"center\">\n",
        "<img src=\"https://camo.githubusercontent.com/8102c73911d713074808f12e0e82efe44c147a0c/68747470733a2f2f73746f726167652e676f6f676c65617069732e636f6d2f71756e617379732f73696e676c657468726561645f706c6f74322e706e67\" width=50%>\n",
        "</div>\n",
        "\n",
        "（注1）ベンチマーク計算の詳細は https://github.com/qulacs/qulacs#performance を御覧ください。  \n",
        "（注2）[Google qsim](https://github.com/quantumlib/qsim)のみ浮動小数点演算に(`double`(64ビット)ではなく)`float`(32ビット)を用いているため単純比較はできません。  "
      ]
    },
    {
      "cell_type": "markdown",
      "metadata": {
        "colab_type": "text",
        "id": "e0TkN51YhZcD"
      },
      "source": [
        "## 1. 量子状態の生成と初期化"
      ]
    },
    {
      "cell_type": "markdown",
      "metadata": {
        "colab_type": "text",
        "id": "PEZ2v6jDYepm"
      },
      "source": [
        "### 1-1. 量子状態の生成\n",
        "以下のコードで量子状態 (`QuantumState`クラス) を生成できます。"
      ]
    },
    {
      "cell_type": "code",
      "metadata": {
        "colab_type": "code",
        "id": "9bez9CTPhZcG",
        "colab": {}
      },
      "source": [
        "from qulacs import QuantumState\n",
        "\n",
        "# 1-qubitの状態を生成\n",
        "n = 1  # qubit数\n",
        "state = QuantumState(n)"
      ],
      "execution_count": null,
      "outputs": []
    },
    {
      "cell_type": "markdown",
      "metadata": {
        "colab_type": "text",
        "id": "9hlmgcgJhZcK"
      },
      "source": [
        "$n$が非常に大きい場合など、メモリが不足している場合は量子状態を生成できません。"
      ]
    },
    {
      "cell_type": "markdown",
      "metadata": {
        "colab_type": "text",
        "id": "-PZHXKTthZcM"
      },
      "source": [
        "### 1-2. 量子状態の詳細情報の取得\n",
        "`QuantumState`クラスのオブジェクトをprintすると、量子状態の情報が出力されます。"
      ]
    },
    {
      "cell_type": "markdown",
      "metadata": {
        "colab_type": "text",
        "id": "SHt2iVQDhZcN"
      },
      "source": [
        "生成した量子状態は $|0\\rangle =\\left(\\begin{array}{c}\n",
        "1\n",
        "\\\\\n",
        "0\n",
        "\\end{array}\n",
        "\\right)$ に初期化されています。"
      ]
    },
    {
      "cell_type": "code",
      "metadata": {
        "colab_type": "code",
        "id": "HkqbpqTYhZcO",
        "colab": {}
      },
      "source": [
        "print(state)"
      ],
      "execution_count": null,
      "outputs": []
    },
    {
      "cell_type": "markdown",
      "metadata": {
        "colab_type": "text",
        "id": "vOv4RwOJhZcZ"
      },
      "source": [
        "ここで、1行目の$(1, 0)$は $1 + 0 i$を、2行目は$0+0i$を表します。"
      ]
    },
    {
      "cell_type": "markdown",
      "metadata": {
        "id": "VMLUYKYAYepw",
        "colab_type": "text"
      },
      "source": [
        "※ `State vector`欄各行の第1成分、第2成分がそれぞれ実部、虚部に対応。"
      ]
    },
    {
      "cell_type": "markdown",
      "metadata": {
        "colab_type": "text",
        "id": "ljt7gMo7hZcb"
      },
      "source": [
        "なお`get_vector`メソッドによっても状態ベクトルが得られます。ここで`j`は虚数単位です。"
      ]
    },
    {
      "cell_type": "code",
      "metadata": {
        "colab_type": "code",
        "id": "5pftieEkhZcd",
        "colab": {}
      },
      "source": [
        "print(state.get_vector())"
      ],
      "execution_count": null,
      "outputs": []
    },
    {
      "cell_type": "markdown",
      "metadata": {
        "id": "fSJvGjNiYepz",
        "colab_type": "text"
      },
      "source": [
        "#### 多量子ビットの場合"
      ]
    },
    {
      "cell_type": "markdown",
      "metadata": {
        "colab_type": "text",
        "id": "i1yuepctYep0"
      },
      "source": [
        "多量子ビットの場合も、qubit数`n`を変えることで同様に量子状態を生成できます。  \n",
        "生成した量子状態は $|00\\cdots0\\rangle$ に初期化されています。"
      ]
    },
    {
      "cell_type": "code",
      "metadata": {
        "colab_type": "code",
        "id": "-cwSPYGyYep0",
        "colab": {}
      },
      "source": [
        "# 2-qubitの状態を生成\n",
        "n = 2  # qubit数\n",
        "state = QuantumState(n)\n",
        "print(state)"
      ],
      "execution_count": null,
      "outputs": []
    },
    {
      "cell_type": "code",
      "metadata": {
        "id": "rD94AdnFYep2",
        "colab_type": "code",
        "colab": {}
      },
      "source": [
        "print(state.get_vector())  # jは虚数単位"
      ],
      "execution_count": null,
      "outputs": []
    },
    {
      "cell_type": "markdown",
      "metadata": {
        "colab_type": "text",
        "id": "cuOI3NrCYep4"
      },
      "source": [
        "生成した量子状態は $|00\\cdots0\\rangle$ に初期化されています。"
      ]
    },
    {
      "cell_type": "markdown",
      "metadata": {
        "colab_type": "text",
        "id": "S7-kXgVWhZca"
      },
      "source": [
        "#### 【復習】状態ベクトルの成分表示\n",
        "\n",
        "2量子ビットの状態を例に説明します。  \n",
        "2量子ビットの状態は一般に\n",
        "\n",
        "$$ |\\psi \\rangle = a_{00}|00\\rangle + a_{01}|01\\rangle + a_{10}|10\\rangle + a_{11}|11\\rangle$$\n",
        "\n",
        "と表せます。\n",
        "\n",
        "このときの係数（複素数）$a_{00}, a_{01}, a_{10}, a_{11}$を並べたものが状態ベクトルの成分表示です。\n",
        "\n",
        "$$|\\psi\\rangle =\\left(\\begin{array}{c}\n",
        "a_{00}\n",
        "\\\\\n",
        "a_{01}\n",
        "\\\\\n",
        "a_{10}\n",
        "\\\\\n",
        "a_{11}\n",
        "\\end{array}\n",
        "\\right)$$\n",
        "\n",
        "Qulacsの`QuantumState`オブジェクトを`print`すると上記の成分表示が得られます。"
      ]
    },
    {
      "cell_type": "markdown",
      "metadata": {
        "id": "_bf6sXrFYep5",
        "colab_type": "text"
      },
      "source": [
        "\n",
        "例えば 状態が$ |\\psi \\rangle = |00\\rangle$ の場合、\n",
        "\n",
        "$$ |\\psi \\rangle = 1\\ |00\\rangle + 0\\ |01\\rangle + 0\\ |10\\rangle + 0\\ |11\\rangle  \n",
        "=\\left(\\begin{array}{c}\n",
        "1\n",
        "\\\\\n",
        "0\n",
        "\\\\\n",
        "0\n",
        "\\\\\n",
        "0\n",
        "\\end{array}\n",
        "\\right)$$\n",
        "\n",
        "と表せるため、出力は以下の通りです。  "
      ]
    },
    {
      "cell_type": "code",
      "metadata": {
        "colab_type": "code",
        "scrolled": false,
        "id": "7j_OKkqvYep5",
        "colab": {}
      },
      "source": [
        "# 2-qubitの状態を生成\n",
        "n = 2  # qubit数\n",
        "state = QuantumState(n)\n",
        "print(state)"
      ],
      "execution_count": null,
      "outputs": []
    },
    {
      "cell_type": "markdown",
      "metadata": {
        "id": "3BQ68VUHYep7",
        "colab_type": "text"
      },
      "source": [
        "※ `State vector`欄各行の第1成分、第2成分がそれぞれ実部、虚部に対応。"
      ]
    },
    {
      "cell_type": "markdown",
      "metadata": {
        "id": "Qb_HwfU-Yep8",
        "colab_type": "text"
      },
      "source": [
        "※ 各行の第1成分、第2成分がそれぞれ実部、虚部に対応。"
      ]
    },
    {
      "cell_type": "markdown",
      "metadata": {
        "id": "Sr7IruRmYep8",
        "colab_type": "text"
      },
      "source": [
        "2量子ビット状態の成分表示について、以下の対応が成り立ちます。\n",
        "\n",
        "$$|00\\rangle =\\left(\\begin{array}{c}\n",
        "1\n",
        "\\\\\n",
        "0\n",
        "\\\\\n",
        "0\n",
        "\\\\\n",
        "0\n",
        "\\end{array}\n",
        "\\right),  \\\n",
        "|01\\rangle =\\left(\\begin{array}{c}\n",
        "0\n",
        "\\\\\n",
        "1\n",
        "\\\\\n",
        "0\n",
        "\\\\\n",
        "0\n",
        "\\end{array}\n",
        "\\right),\\\n",
        "|10\\rangle =\\left(\\begin{array}{c}\n",
        "0\n",
        "\\\\\n",
        "0\n",
        "\\\\\n",
        "1\n",
        "\\\\\n",
        "0\n",
        "\\end{array}\n",
        "\\right),\\\n",
        "|11\\rangle =\\left(\\begin{array}{c}\n",
        "0\n",
        "\\\\\n",
        "0\n",
        "\\\\\n",
        "0\n",
        "\\\\\n",
        "1\n",
        "\\end{array}\n",
        "\\right)\n",
        "$$"
      ]
    },
    {
      "cell_type": "markdown",
      "metadata": {
        "colab_type": "text",
        "id": "Kjc4xDlOhZcg"
      },
      "source": [
        "### 1-3. 量子状態の初期化\n",
        "\n",
        "生成した量子状態は、二進数を用いて初期化(`set_computational_basis`)したり、ランダムな状態に初期化(`set_Haar_random_state`)することができます。"
      ]
    },
    {
      "cell_type": "markdown",
      "metadata": {
        "id": "sQm1-trrYep9",
        "colab_type": "text"
      },
      "source": [
        "#### 計算基底への初期化\n",
        "\n",
        "量子計算分野において、{$|0\\rangle, |1\\rangle$}を量子ビットの個数だけテンソル積を取ったものを **計算基底 (computational basis)** と呼ぶ。    \n",
        "例えば2量子ビット系の場合、計算基底は {$|00\\rangle, |01\\rangle$, $|10\\rangle, |11\\rangle$} となる。"
      ]
    },
    {
      "cell_type": "code",
      "metadata": {
        "colab_type": "code",
        "id": "GnRQMe5rhZch",
        "scrolled": true,
        "colab": {}
      },
      "source": [
        "# |01> に初期化\n",
        "state.set_computational_basis(0b01)  # 0b01の「0b」は2進数表示を表す\n",
        "print(state.get_vector()) "
      ],
      "execution_count": null,
      "outputs": []
    },
    {
      "cell_type": "markdown",
      "metadata": {
        "id": "oGvXgrRUYep_",
        "colab_type": "text"
      },
      "source": [
        "#### ランダムな状態への初期化"
      ]
    },
    {
      "cell_type": "code",
      "metadata": {
        "colab_type": "code",
        "id": "4EGJ_mjRhZcn",
        "colab": {}
      },
      "source": [
        "# ランダムな初期状態を生成\n",
        "state.set_Haar_random_state()\n",
        "print(state.get_vector())"
      ],
      "execution_count": null,
      "outputs": []
    },
    {
      "cell_type": "markdown",
      "metadata": {
        "id": "LjE7vo6UYeqC",
        "colab_type": "text"
      },
      "source": [
        "#### 【問題】\n",
        "1. 状態ベクトル$|101\\rangle$を成分表示するとどうなるでしょうか？\n",
        "2. 状態ベクトル$|101\\rangle$をQulacsを用いて生成・成分表示し、予想と一致することを確かめて下さい"
      ]
    },
    {
      "cell_type": "markdown",
      "metadata": {
        "id": "GB6D0Kv5YeqC",
        "colab_type": "text"
      },
      "source": [
        "#### 【解答】\n",
        "3 qubitの状態は一般に$2^3=8$次元の複素数ベクトル\n",
        "\n",
        "$$|\\psi\\rangle =\\left(\\begin{array}{c}\n",
        "a_{000}\n",
        "\\\\\n",
        "a_{001}\n",
        "\\\\\n",
        "a_{010}\n",
        "\\\\\n",
        "a_{011}\n",
        "\\\\\n",
        "a_{100}\n",
        "\\\\\n",
        "a_{101}\n",
        "\\\\\n",
        "a_{110}\n",
        "\\\\\n",
        "a_{111}\n",
        "\\end{array}\n",
        "\\right)$$\n",
        "\n",
        "で表されます。  "
      ]
    },
    {
      "cell_type": "markdown",
      "metadata": {
        "id": "ja5OrH3HYeqD",
        "colab_type": "text"
      },
      "source": [
        "したがって$|101\\rangle$は$a_{101}$のみ1, 他は0のベクトルとなります。\n",
        "\n",
        "※ 2進法の101=10進法の5なので、0から数えて上から5番目の成分のみ1という解釈もできます。"
      ]
    },
    {
      "cell_type": "code",
      "metadata": {
        "id": "eSDjFj4GYeqD",
        "colab_type": "code",
        "colab": {}
      },
      "source": [
        "state = QuantumState(3)\n",
        "state.set_computational_basis(0b101)\n",
        "print(state) "
      ],
      "execution_count": null,
      "outputs": []
    },
    {
      "cell_type": "markdown",
      "metadata": {
        "colab_type": "text",
        "id": "wXiZ_BQghZcr"
      },
      "source": [
        "### 1-4. 量子状態のデータのコピー\n",
        "量子状態を複製(`copy`)したりできます。"
      ]
    },
    {
      "cell_type": "code",
      "metadata": {
        "colab_type": "code",
        "id": "0ebwyRWqhZcu",
        "colab": {}
      },
      "source": [
        "# 1つ目の量子状態\n",
        "state = QuantumState(2)\n",
        "state.set_computational_basis(0b01)\n",
        "print(state.get_vector())"
      ],
      "execution_count": null,
      "outputs": []
    },
    {
      "cell_type": "code",
      "metadata": {
        "colab_type": "code",
        "id": "2dpEYCI1hZcy",
        "colab": {}
      },
      "source": [
        "# コピーして新たな量子状態を作成\n",
        "second_state = state.copy()\n",
        "print(second_state.get_vector())"
      ],
      "execution_count": null,
      "outputs": []
    },
    {
      "cell_type": "markdown",
      "metadata": {
        "id": "KCu6vNPWYeqK",
        "colab_type": "text"
      },
      "source": [
        "## 2. 量子ゲート"
      ]
    },
    {
      "cell_type": "markdown",
      "metadata": {
        "colab_type": "text",
        "id": "rOtGPRlOhZc1"
      },
      "source": [
        "### 2-1. 量子ゲートの生成と作用\n",
        "デフォルトで実装されている量子ゲートは`qulacs.gate`モジュールで定義されます。  \n",
        "このモジュールにより、様々なゲート操作を行うことが可能です。"
      ]
    },
    {
      "cell_type": "code",
      "metadata": {
        "colab_type": "code",
        "id": "oOCcoSF2hZc3",
        "colab": {}
      },
      "source": [
        "from qulacs import QuantumState\n",
        "from qulacs.gate import X, RY, DenseMatrix"
      ],
      "execution_count": null,
      "outputs": []
    },
    {
      "cell_type": "markdown",
      "metadata": {
        "colab_type": "text",
        "id": "KkO_oyZKhZdA"
      },
      "source": [
        "#### Xゲート"
      ]
    },
    {
      "cell_type": "markdown",
      "metadata": {
        "colab_type": "text",
        "id": "AxBgTk63hZdC"
      },
      "source": [
        "まず1量子ビット操作の内Xゲートを掛けてみます。\n",
        "Xの行列表記は  \n",
        "\n",
        "$$\n",
        "X=\n",
        "\\left(\\begin{array}{cc}\n",
        "0 & 1\n",
        "\\\\\n",
        "1 & 0\n",
        "\\end{array}\n",
        "\\right)\\;\\;\\;\n",
        "$$\n",
        "\n",
        "であり、以下のように量子ビットを反転させる働きをします。  \n",
        "\n",
        "$$X|0\\rangle = |1\\rangle, \\;\\;\n",
        "X|1\\rangle = |0\\rangle\n",
        "$$"
      ]
    },
    {
      "cell_type": "markdown",
      "metadata": {
        "colab_type": "text",
        "id": "oklBHKobhZdD"
      },
      "source": [
        "例として、3つの量子ビットの内真ん中のqubitのみにXゲートを作用させてみましょう。\n",
        "\n",
        "ここで、Qulacsではqubitは右端から0番目, 1番目, ...と数えることに注意が必要です。すなわち\n",
        "\n",
        "$$\n",
        "| q_2 q_1 q_0\\rangle\n",
        "$$\n",
        "\n",
        "と並んでいるため、「1番目」のqubit $q_1$のみを指定してXゲート演算をします。"
      ]
    },
    {
      "cell_type": "code",
      "metadata": {
        "colab_type": "code",
        "id": "NhFBvRSDhZdE",
        "colab": {}
      },
      "source": [
        "# 1st-qubitにX操作するゲートx_gateを作成\n",
        "index = 1\n",
        "x_gate = X(index)"
      ],
      "execution_count": null,
      "outputs": []
    },
    {
      "cell_type": "code",
      "metadata": {
        "colab_type": "code",
        "id": "5DDkHl-hhZc7",
        "colab": {}
      },
      "source": [
        "# 量子状態の生成\n",
        "n = 3\n",
        "state = QuantumState(n)\n",
        "print(state.get_vector())  # |000> = (1,0,0,0,0,0,0,0)"
      ],
      "execution_count": null,
      "outputs": []
    },
    {
      "cell_type": "markdown",
      "metadata": {
        "colab_type": "text",
        "id": "0qffnOEFhZdJ"
      },
      "source": [
        "`update_quantum_state`メソッドを用いてゲート操作を行います。"
      ]
    },
    {
      "cell_type": "code",
      "metadata": {
        "colab_type": "code",
        "id": "0zX67WiOhZdK",
        "colab": {}
      },
      "source": [
        "x_gate.update_quantum_state(state)\n",
        "print(state.get_vector())  # |010> = (0,0,1,0,0,0,0,0)"
      ],
      "execution_count": null,
      "outputs": []
    },
    {
      "cell_type": "markdown",
      "metadata": {
        "colab_type": "text",
        "id": "VPW8bH5JhZdO"
      },
      "source": [
        "#### Y回転ゲート\n",
        "Y回転ゲート$R_y(\\theta)$ も1 qubitゲートの一つであり、[Bloch球](https://ja.wikipedia.org/wiki/%E3%83%96%E3%83%AD%E3%83%83%E3%83%9B%E7%90%83)上で$y$軸に関する回転を表します。\n",
        "\n",
        "$$\n",
        "R_y(\\theta) = e^{i \\frac{\\theta}{2}Y} \n",
        "= \\cos{\\frac{\\theta}{2}} I + i \\sin{\\frac{\\theta}{2}} Y\n",
        "=\\left(\\begin{array}{cc}\n",
        "\\cos{\\frac{\\theta}{2}} & \\sin{\\frac{\\theta}{2}} \n",
        "\\\\\n",
        "-\\sin{\\frac{\\theta}{2}} & \\cos{\\frac{\\theta}{2} }\n",
        "\\end{array}\n",
        "\\right)\\;\\;\\;\n",
        "$$"
      ]
    },
    {
      "cell_type": "code",
      "metadata": {
        "colab_type": "code",
        "id": "JlrZJIBQhZdP",
        "colab": {}
      },
      "source": [
        "# 1st-qubitをYパウリでpi/4.0回転\n",
        "from math import pi\n",
        "angle = pi / 4.0\n",
        "ry_gate = RY(index, angle)\n",
        "ry_gate.update_quantum_state(state)\n",
        "print(state.get_vector())"
      ],
      "execution_count": null,
      "outputs": []
    },
    {
      "cell_type": "markdown",
      "metadata": {
        "id": "RGJYbiDtYeqW",
        "colab_type": "text"
      },
      "source": [
        "このように、回転ゲート<code>RX</code>,<code>RY</code>,<code>RZ</code>,<code>PauliRotation</code>は所定のパウリ演算子$P$、引数$\\theta$に対して$\\exp(i\\frac{\\theta}{2}P)$という操作を行います。それぞれのゲートの詳細は[APIドキュメント](http://qulacs.org/namespacegate.html)をご参照ください。\n",
        "\n",
        "\n",
        "なお、Qulacs上で定義される回転ゲートは、Nielsen-Chuangのテキスト等で定義される$R_y(\\theta)$とは、回転角の**符号が異なる**ので注意が必要です。"
      ]
    },
    {
      "cell_type": "markdown",
      "metadata": {
        "colab_type": "text",
        "id": "DE_CNKADhZdZ"
      },
      "source": [
        "#### その他のゲート\n",
        "Qulacs上で定義されているゲートは以下の通りです。\n",
        "\n",
        "- single-qubit Pauli operation: Identity, X,Y,Z\n",
        "- single-qubit Clifford operation : H,S,Sdag, T,Tdag,sqrtX,sqrtXdag,sqrtY,sqrtYdag\n",
        "- two-qubit Clifford operation : CNOT, CZ, SWAP\n",
        "- single-qubit Pauli rotation : RX, RY, RZ\n",
        "- General Pauli operation : Pauli, PauliRotation\n",
        "- IBMQ basis-gate : U1, U2, U3\n",
        "- General gate : DenseMatrix\n",
        "- Measurement : Measurement\n",
        "- Noise : BitFlipNoise, DephasingNoise, IndepenedentXZNoise, DepolarizingNoise"
      ]
    },
    {
      "cell_type": "markdown",
      "metadata": {
        "colab_type": "text",
        "id": "uaTOzs6rhZda"
      },
      "source": [
        "### 2-2. 量子ゲートの合成\n",
        "続けて作用する量子ゲートを合成し、新たな単一の量子ゲートを生成できます。"
      ]
    },
    {
      "cell_type": "code",
      "metadata": {
        "colab_type": "code",
        "id": "CFm62iNAhZdc",
        "colab": {}
      },
      "source": [
        "from qulacs import QuantumState\n",
        "from qulacs.gate import X, RY, merge"
      ],
      "execution_count": null,
      "outputs": []
    },
    {
      "cell_type": "code",
      "metadata": {
        "colab_type": "code",
        "id": "BfopRsj6hZdi",
        "colab": {}
      },
      "source": [
        "# Xゲート作成\n",
        "index = 0\n",
        "x_gate = X(index)\n",
        "\n",
        "# RYゲート（y軸に関する回転）作成\n",
        "from math import pi\n",
        "angle = pi / 2.0\n",
        "ry_gate = RY(index, angle)"
      ],
      "execution_count": null,
      "outputs": []
    },
    {
      "cell_type": "markdown",
      "metadata": {
        "colab_type": "text",
        "id": "tBpLf08JhZdo"
      },
      "source": [
        "2つのゲートを合成して\n",
        "$$\n",
        "R_{y}(\\theta) X\n",
        "$$\n",
        "を作成し、状態ベクトル$|0\\rangle$に作用させます。"
      ]
    },
    {
      "cell_type": "code",
      "metadata": {
        "colab_type": "code",
        "id": "f12RkY8JhZdq",
        "colab": {}
      },
      "source": [
        "# 量子状態の初期化\n",
        "n = 1\n",
        "state = QuantumState(n)\n",
        "\n",
        "# ゲートを合成して新たなゲートを生成\n",
        "x_and_ry_gate = merge(x_gate, ry_gate)  # 第一引数が先に作用する\n",
        "x_and_ry_gate.update_quantum_state(state)\n",
        "print(state.get_vector())"
      ],
      "execution_count": null,
      "outputs": []
    },
    {
      "cell_type": "markdown",
      "metadata": {
        "id": "AU2gebhIYeqd",
        "colab_type": "text"
      },
      "source": [
        "#### 【問題】\n",
        "\n",
        "1. 2つのゲートの順序を入れ替えた $X R_{y}(\\theta) |0\\rangle $ を計算し、もとの $R_y (\\theta) X|0\\rangle$と比較して下さい。\n",
        "2. 更に角度$\\theta$の符号を反転させた $X R_{y}(-\\theta) |0\\rangle $ を計算して下さい。"
      ]
    },
    {
      "cell_type": "markdown",
      "metadata": {
        "id": "bHU1W638Yeqd",
        "colab_type": "text"
      },
      "source": [
        "#### 【解答】\n",
        "\n",
        "以下の通りです。  \n",
        "問題1の結果はもとの状態と異なりますが、問題2の結果はもとの状態と一致します。\n",
        "\n",
        "実は、一般に $R_{y}(\\theta) X= X R_y (-\\theta)$が成り立ちます（交換関係$YX = -XY$の帰結）。"
      ]
    },
    {
      "cell_type": "code",
      "metadata": {
        "colab_type": "code",
        "id": "BKwPEXLWYeqg",
        "colab": {}
      },
      "source": [
        "# 問題1\n",
        "state = QuantumState(1)\n",
        "\n",
        "# ゲートを合成して新たなゲートを生成\n",
        "ry_and_x_gate = merge(ry_gate, x_gate)  # 第一引数が先に作用する\n",
        "ry_and_x_gate.update_quantum_state(state)\n",
        "print(state.get_vector())"
      ],
      "execution_count": null,
      "outputs": []
    },
    {
      "cell_type": "code",
      "metadata": {
        "colab_type": "code",
        "id": "wC10BzqqYeqi",
        "colab": {}
      },
      "source": [
        "# 問題2\n",
        "state = QuantumState(1)\n",
        "\n",
        "# 回転角度θを逆にしたRYゲート\n",
        "ry_gate_inv = RY(index, -angle)\n",
        "\n",
        "# ゲートを合成して新たなゲートを生成\n",
        "ry_and_x_gate = merge(ry_gate_inv, x_gate)  # 第一引数が先に作用する\n",
        "ry_and_x_gate.update_quantum_state(state)\n",
        "print(state.get_vector())"
      ],
      "execution_count": null,
      "outputs": []
    },
    {
      "cell_type": "markdown",
      "metadata": {
        "colab_type": "text",
        "id": "2ZYpuyIzhZdt"
      },
      "source": [
        "### 2-3. 一般的な量子ゲートの実現\n",
        "`qulacs.gate.DenseMatrix`を使うと、一般の行列からゲートを生成することができます。  \n",
        "なお、Qulacs上で既に定義されているゲート（`H`, `RY`, `CNOT`等）については、それらを用いた方が`DenseMatrix`よりも高速です。"
      ]
    },
    {
      "cell_type": "code",
      "metadata": {
        "colab_type": "code",
        "id": "usqGxMSOhZdu",
        "colab": {}
      },
      "source": [
        "from qulacs.gate import DenseMatrix\n",
        "n = 2\n",
        "state = QuantumState(n)\n",
        "print(state)"
      ],
      "execution_count": null,
      "outputs": []
    },
    {
      "cell_type": "code",
      "metadata": {
        "colab_type": "code",
        "id": "tMnS_P1shZdx",
        "colab": {}
      },
      "source": [
        "# 1-qubit gateの場合\n",
        "gate = DenseMatrix(1, [[0,1],[1,0]])  # 1st-qubitに Xゲートを作用\n",
        "print(gate)"
      ],
      "execution_count": null,
      "outputs": []
    },
    {
      "cell_type": "code",
      "metadata": {
        "colab_type": "code",
        "id": "y3W9tcT1hZd0",
        "colab": {}
      },
      "source": [
        "# 1st-qubitにゲート行列で作成したゲートを作用\n",
        "# (qubitの順番は右端から0, 1,...と数えることに注意)\n",
        "gate.update_quantum_state(state)  # |00>を|10>に \n",
        "print(state.get_vector())"
      ],
      "execution_count": null,
      "outputs": []
    },
    {
      "cell_type": "code",
      "metadata": {
        "colab_type": "code",
        "id": "jfE7wlEjhZd8",
        "colab": {}
      },
      "source": [
        "# 2-qubit gateの場合\n",
        "gate = DenseMatrix([0,1], [[1,0,0,0],[0,1,0,0],[0,0,0,1],[0,0,1,0]])  # CNOTゲート cf. https://dojo.qulacs.org/ja/latest/notebooks/1.3_multiqubit_representation_and_operations.html\n",
        "print(gate)"
      ],
      "execution_count": null,
      "outputs": []
    },
    {
      "cell_type": "code",
      "metadata": {
        "colab_type": "code",
        "id": "7LNxHRJwhZd_",
        "colab": {}
      },
      "source": [
        "# CNOTゲートを作用\n",
        "gate.update_quantum_state(state)  # |10>を|11>に\n",
        "print(state.get_vector())"
      ],
      "execution_count": null,
      "outputs": []
    },
    {
      "cell_type": "markdown",
      "metadata": {
        "id": "shYiBnjCYequ",
        "colab_type": "text"
      },
      "source": [
        "## 3. 量子回路"
      ]
    },
    {
      "cell_type": "markdown",
      "metadata": {
        "colab_type": "text",
        "id": "WmrT4j66hZeC"
      },
      "source": [
        "### 3-1. 量子回路の構成\n",
        "量子コンピュータでは一般に多くの量子ゲートを決まった順番で作用させますが、量子回路としてそれらをまとめておくことでより扱いやすくなります。\n",
        "例えばVQEなど、同じ量子回路を繰り返し作用させる場合特に便利です。  \n",
        "量子回路(`QuantumCircuit`クラス)は量子ゲートの集合として表され、以下のように量子回路を構成できます。  "
      ]
    },
    {
      "cell_type": "code",
      "metadata": {
        "colab_type": "code",
        "id": "X5z49QGDhZeD",
        "colab": {}
      },
      "source": [
        "from qulacs import QuantumState, QuantumCircuit\n",
        "from qulacs.gate import Z\n",
        "n = 3\n",
        "state = QuantumState(n)\n",
        "state.set_zero_state()\n",
        "\n",
        "# 量子回路を定義\n",
        "circuit = QuantumCircuit(n)\n",
        "\n",
        "# 量子回路にhadamardゲートを追加\n",
        "for i in range(n):\n",
        "    circuit.add_H_gate(i)\n",
        "\n",
        "# ゲートを生成し、それを追加することもできる。\n",
        "for i in range(n):\n",
        "    z_gate = Z(i)\n",
        "    circuit.add_gate(z_gate)\n",
        "\n",
        "# 量子回路を状態に作用\n",
        "circuit.update_quantum_state(state)\n",
        "\n",
        "print(state.get_vector())"
      ],
      "execution_count": null,
      "outputs": []
    },
    {
      "cell_type": "markdown",
      "metadata": {
        "id": "yY2RHUqJYeqx",
        "colab_type": "text"
      },
      "source": [
        "## 4. オブザーバブル"
      ]
    },
    {
      "cell_type": "markdown",
      "metadata": {
        "colab_type": "text",
        "id": "Kq9D8xgEhZeM"
      },
      "source": [
        "量子力学においては、**物理量はエルミート演算子**$A$**で表され、オブザーバブルとも呼ばれます**。  \n",
        "（エルミート演算子は$A^\\dagger=A$を満たす演算子）  \n",
        "\n",
        "\n",
        "状態$|\\psi\\rangle$について$A$の「**射影測定**」というものを行うと、$|\\psi\\rangle$をAの固有状態$\\{|a_i\\rangle\\}_i$（固有値$a_i$）で展開した係数\n",
        "\n",
        "$$\n",
        " |\\psi\\rangle = \\sum_i c_i |a_i\\rangle\n",
        "$$\n",
        "\n",
        "に応じた確率$|c_i|^2$で測定値$a_i$が得られ、その期待値は$\\langle\\psi|A|\\psi\\rangle$となります。\n"
      ]
    },
    {
      "cell_type": "markdown",
      "metadata": {
        "id": "d4NpxZ-AYeqx",
        "colab_type": "text"
      },
      "source": [
        "\n",
        "### 4-1. オブザーバブルの生成\n",
        "Qulacsでは、オブザーバブルはパウリ演算子$X,Y,Z$の直積（一般化パウリ行列）として表現されます。  \n",
        "（エルミートな演算子は必ずパウリ演算子の直積の和で表されるため。）  \n",
        "パウリ演算子は下記のように定義できます。\n",
        "\n",
        "以下では $2 X_0 X_1 Y_2$ というオブザーバブルを定義しています。  "
      ]
    },
    {
      "cell_type": "code",
      "metadata": {
        "colab_type": "code",
        "id": "UemoSt7ahZeN",
        "colab": {}
      },
      "source": [
        "from qulacs import Observable\n",
        "n = 3\n",
        "coef = 2.0\n",
        "# 2.0 X_0 X_1 Y_2 というパウリ演算子を設定\n",
        "Pauli_string = \"X 0 X 1 Y 2\"\n",
        "observable = Observable(n)\n",
        "observable.add_operator(coef,Pauli_string)"
      ],
      "execution_count": null,
      "outputs": []
    },
    {
      "cell_type": "markdown",
      "metadata": {
        "id": "EfwbVXmsYeq0",
        "colab_type": "text"
      },
      "source": [
        "一般のオブザーバブル（エルミート演算子）は、上記の要領で、パウリ演算子の直積（一般化パウリ行列）に実係数をかけたものを`add_operator`メソッドにより足していくことで構成できます。"
      ]
    },
    {
      "cell_type": "markdown",
      "metadata": {
        "colab_type": "text",
        "id": "bFkAmtf2hZeS"
      },
      "source": [
        "### 4-2. オブザーバブルの評価\n",
        "`get_expectation_value`メソッドにより、状態に対してオブザーバブルの期待値を評価できます。"
      ]
    },
    {
      "cell_type": "code",
      "metadata": {
        "colab_type": "code",
        "id": "30YEJvbDhZeT",
        "colab": {}
      },
      "source": [
        "state = QuantumState(n)\n",
        "state.set_Haar_random_state()\n",
        "\n",
        "# 期待値の計算\n",
        "value = observable.get_expectation_value(state)\n",
        "print(value)"
      ],
      "execution_count": null,
      "outputs": []
    },
    {
      "cell_type": "markdown",
      "metadata": {
        "id": "l2hlfDkhYeq3",
        "colab_type": "text"
      },
      "source": [
        "#### 【問題】\n",
        "以下のランダムに生成した1量子ビット状態`state`について、オブザーバブル$X$の期待値を、以下2通りの方法で求めて下さい。\n",
        "1. $X$に対応するオブザーバブルを定義し期待値を直接求める\n",
        "2. $Z$に対応するオブザーバブルを定義して求める（ヒント：$X = H^{\\dagger} Z H$）\n",
        "\n",
        "（余裕がある方はオブザーバブル$Y$についても同様に2通りの方法で計算してみて下さい。）"
      ]
    },
    {
      "cell_type": "code",
      "metadata": {
        "scrolled": true,
        "id": "wha2YJiMYeq4",
        "colab_type": "code",
        "colab": {}
      },
      "source": [
        "state = QuantumState(1)\n",
        "state.set_Haar_random_state()\n",
        "print(state)"
      ],
      "execution_count": null,
      "outputs": []
    },
    {
      "cell_type": "markdown",
      "metadata": {
        "id": "mpj-oFq4Yeq6",
        "colab_type": "text"
      },
      "source": [
        "#### 【解答】\n",
        "問題1.の解答は以下の通りです。"
      ]
    },
    {
      "cell_type": "code",
      "metadata": {
        "id": "bxxXPowgYeq6",
        "colab_type": "code",
        "colab": {}
      },
      "source": [
        "# 問題1.\n",
        "\n",
        "# observable Xの作成\n",
        "coef = 1.\n",
        "pauli_string = \"X 0\"\n",
        "obs_x = Observable(1)\n",
        "obs_x.add_operator(coef, pauli_string)\n",
        "\n",
        "# Xに関する期待値測定\n",
        "value = obs_x.get_expectation_value(state)\n",
        "print(value)"
      ],
      "execution_count": null,
      "outputs": []
    },
    {
      "cell_type": "markdown",
      "metadata": {
        "id": "NxUqGuGtYeq-",
        "colab_type": "text"
      },
      "source": [
        "問題2.の解答です。  \n",
        "QPARC第3回講義で学んだ通り、量子コンピュータで基本的に可能な測定は0, 1ビットに関する**射影測定**、すなわち、$Z$の期待値のみを知ることができます。  \n",
        "ある状態の$X$の期待値$\\langle \\psi |X |\\psi\\rangle$を知りたい場合、関係式\n",
        "$$ \\langle \\psi |X |\\psi\\rangle=  \\langle \\psi | H^{\\dagger} Z H |\\psi\\rangle$$\n",
        "を利用します。  \n",
        "すなわち、状態$|\\psi\\rangle$にまずアダマールゲート$H$を作用させ、得られた状態$H|\\psi\\rangle$について$Z$の期待値を測定することで、$\\langle \\psi |X |\\psi\\rangle$が得られます。"
      ]
    },
    {
      "cell_type": "code",
      "metadata": {
        "id": "9MG2osjLYeq-",
        "colab_type": "code",
        "colab": {}
      },
      "source": [
        "# 問題2.\n",
        "\n",
        "# observable Zの作成\n",
        "coef = 1.\n",
        "pauli_string = \"Z 0\"\n",
        "obs_z = Observable(1)\n",
        "obs_z.add_operator(coef, pauli_string)\n",
        "\n",
        "# 状態にアダマールゲートHをかける\n",
        "from qulacs.gate import H\n",
        "hadamard = H(0)\n",
        "hadamard.update_quantum_state(state)\n",
        "\n",
        "# Zに関する期待値測定\n",
        "value = obs_z.get_expectation_value(state)\n",
        "print(value)"
      ],
      "execution_count": null,
      "outputs": []
    },
    {
      "cell_type": "markdown",
      "metadata": {
        "colab_type": "text",
        "id": "gYWdLDf2hZgm"
      },
      "source": [
        "## おわりに\n",
        "\n",
        "以上、大変駆け足ではありましたが、量子コンピュータ シミュレータの基本的な使い方から、分子のエネルギー計算という具体的なアルゴリズムの実装までを概観しました。\n",
        "\n",
        "本チュートリアルで体験頂いたように、シミュレータの利用を通して量子コンピュータで計算する感覚を養うことで、現在より大規模かつ高精度の実機が登場した際にも円滑に対応できるはずです。\n",
        "\n",
        "量子コンピュータ アルゴリズムに関して、さらに深く勉強されたい方は、Google Colabで実行しながら学べる無料教材[Quantum Native Dojo](https://dojo.qulacs.org/ja/latest/) をお勧めします。"
      ]
    }
  ]
}